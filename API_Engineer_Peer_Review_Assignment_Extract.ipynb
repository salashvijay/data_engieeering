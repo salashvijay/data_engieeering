{
 "cells": [
  {
   "cell_type": "markdown",
   "metadata": {},
   "source": [
    "<center>\n",
    "    <img src=\"https://gitlab.com/ibm/skills-network/courses/placeholder101/-/raw/master/labs/module%201/images/IDSNlogo.png\" width=\"300\" alt=\"cognitiveclass.ai logo\"  />\n",
    "</center>\n"
   ]
  },
  {
   "cell_type": "markdown",
   "metadata": {},
   "source": [
    "# Peer Review Assignment - Data Engineer - Extract API Data\n"
   ]
  },
  {
   "cell_type": "markdown",
   "metadata": {},
   "source": [
    "Estimated time needed: **20** minutes\n"
   ]
  },
  {
   "cell_type": "markdown",
   "metadata": {},
   "source": [
    "## Objectives\n",
    "\n",
    "In this part you will:\n",
    "\n",
    "*   Collect exchange rate data using an API\n",
    "*   Store the data as a CSV\n"
   ]
  },
  {
   "cell_type": "markdown",
   "metadata": {},
   "source": [
    "For this lab, we are going to be using Python and several Python libraries. Some of these libraries might be installed in your lab environment or in SN Labs. Others may need to be installed by you. The cells below will install these libraries when executed.\n"
   ]
  },
  {
   "cell_type": "code",
   "execution_count": 1,
   "metadata": {},
   "outputs": [],
   "source": [
    "#!pip install pandas\n",
    "#!pip install requests"
   ]
  },
  {
   "cell_type": "markdown",
   "metadata": {},
   "source": [
    "## Imports\n",
    "\n",
    "Import any additional libraries you may need here.\n"
   ]
  },
  {
   "cell_type": "code",
   "execution_count": 2,
   "metadata": {},
   "outputs": [],
   "source": [
    "import requests\n",
    "import pandas as pd"
   ]
  },
  {
   "cell_type": "markdown",
   "metadata": {},
   "source": [
    "## Extract Data Using an API\n"
   ]
  },
  {
   "cell_type": "markdown",
   "metadata": {},
   "source": [
    "Using ExchangeRate-API we will extract currency exchange rate data. Use the below steps to get the access key and to get the data.\n",
    "\n",
    "1.  Open the url : [https://exchangeratesapi.io/](https://exchangeratesapi.io/?utm_medium=Exinfluencer&utm_source=Exinfluencer&utm_content=000026UJ&utm_term=10006555&utm_id=NA-SkillsNetwork-Channel-SkillsNetworkCoursesIBMDeveloperSkillsNetworkPY0221ENSkillsNetwork23455645-2021-01-01) and create a free account.\n",
    "2.  Once the account is created. You will get the Get the Free API key option on the top as shown below:\n",
    "\n",
    "<img src=\"https://cf-courses-data.s3.us.cloud-object-storage.appdomain.cloud/IBMDeveloperSkillsNetwork-PY0221EN-SkillsNetwork/labs/module%206/Final%20Assignment/Images/getapi.png\"/>\n",
    "\n",
    "3.  Copy the API key and use in the url in Question 1.\n"
   ]
  },
  {
   "cell_type": "markdown",
   "metadata": {},
   "source": [
    "### Call the API\n",
    "\n",
    "<b> Question 1</b> Using the `requests` library call the endpoint given above and save the text, remember the first few characters of the output:\n"
   ]
  },
  {
   "cell_type": "code",
   "execution_count": 31,
   "metadata": {},
   "outputs": [
    {
     "data": {
      "text/plain": [
       "b'{\"success\":true,\"timestamp\":1644724563,\"base\":\"EUR\",\"date\":\"2022-02-13\",\"rates\":{\"AED\":4.168752,\"AFN\":104.900894,\"ALL\":121.441034,\"AMD\":546.954659,\"ANG\":2.053617,\"AOA\":598.962712,\"ARS\":120.803029,\"AUD\":1.590442,\"AWG\":2.043175,\"AZN\":1.933903,\"BAM\":1.955847,\"BBD\":2.30072,\"BDT\":97.967634,\"BGN\":1.948435,\"BHD\":0.427904,\"BIF\":2276.819393,\"BMD\":1.13494,\"BND\":1.531713,\"BOB\":7.845367,\"BRL\":5.962951,\"BSD\":1.13951,\"BTC\":2.6828865e-5,\"BTN\":85.75283,\"BWP\":13.120212,\"BYN\":2.913125,\"BYR\":22244.817475,\"BZD\":2.29692,\"CAD\":1.445448,\"CDF\":2286.90384,\"CHF\":1.051115,\"CLF\":0.033151,\"CLP\":914.725391,\"CNY\":7.212092,\"COP\":4471.338086,\"CRC\":732.476239,\"CUC\":1.13494,\"CUP\":30.075901,\"CVE\":110.265939,\"CZK\":24.563844,\"DJF\":202.861728,\"DKK\":7.440329,\"DOP\":65.155555,\"DZD\":159.834734,\"EGP\":17.832152,\"ERN\":17.024117,\"ETB\":57.342188,\"EUR\":1,\"FJD\":2.422533,\"FKP\":0.826145,\"GBP\":0.836822,\"GEL\":3.325817,\"GGP\":0.826145,\"GHS\":7.304162,\"GIP\":0.826145,\"GMD\":60.26967,\"GNF\":10274.787518,\"GTQ\":8.762675,\"GYD\":238.402031,\"HKD\":8.85308,\"HNL\":28.055239,\"HRK\":7.531505,\"HTG\":116.497992,\"HUF\":356.450941,\"IDR\":16280.425789,\"ILS\":3.672257,\"IMP\":0.826145,\"INR\":85.516006,\"IQD\":1663.084166,\"IRR\":47951.201335,\"ISK\":141.890595,\"JEP\":0.826145,\"JMD\":179.104526,\"JOD\":0.804717,\"JPY\":131.536147,\"KES\":129.446003,\"KGS\":96.22541,\"KHR\":4636.539493,\"KMF\":490.351119,\"KPW\":1021.445879,\"KRW\":1361.694983,\"KWD\":0.343036,\"KYD\":0.949608,\"KZT\":490.034174,\"LAK\":12944.610258,\"LBP\":1723.114677,\"LKR\":230.746665,\"LRD\":174.331017,\"LSL\":17.274215,\"LTL\":3.351182,\"LVL\":0.686514,\"LYD\":5.221644,\"MAD\":10.640891,\"MDL\":20.282873,\"MGA\":4538.018654,\"MKD\":61.630525,\"MMK\":2026.069857,\"MNT\":3244.60089,\"MOP\":9.154978,\"MRO\":405.173266,\"MUR\":49.660423,\"MVR\":17.535247,\"MWK\":913.243779,\"MXN\":23.317166,\"MYR\":4.754834,\"MZN\":72.443627,\"NAD\":17.27421,\"NGN\":473.281618,\"NIO\":40.400344,\"NOK\":10.093477,\"NPR\":137.204169,\"NZD\":1.706805,\"OMR\":0.436974,\"PAB\":1.13951,\"PEN\":4.260936,\"PGK\":4.035734,\"PHP\":58.185496,\"PKR\":199.011895,\"PLN\":4.572613,\"PYG\":7942.967656,\"QAR\":4.132359,\"RON\":4.945958,\"RSD\":117.557475,\"RUB\":87.15588,\"RWF\":1184.520089,\"SAR\":4.258075,\"SBD\":9.178684,\"SCR\":14.852127,\"SDG\":502.214977,\"SEK\":10.603413,\"SGD\":1.52957,\"SHP\":1.56327,\"SLL\":13068.830651,\"SOS\":662.80515,\"SRD\":23.11309,\"STD\":23490.959675,\"SVC\":9.971085,\"SYP\":2850.968189,\"SZL\":17.247647,\"THB\":37.128459,\"TJS\":12.87051,\"TMT\":3.972289,\"TND\":3.273209,\"TOP\":2.573987,\"TRY\":15.344502,\"TTD\":7.744366,\"TWD\":31.675074,\"TZS\":2635.64245,\"UAH\":31.930172,\"UGX\":4013.234184,\"USD\":1.13494,\"UYU\":49.28342,\"UZS\":12364.87532,\"VEF\":242684401354.12613,\"VND\":25748.943697,\"VUV\":129.010197,\"WST\":2.964852,\"XAF\":655.962587,\"XAG\":0.0504,\"XAU\":0.000628,\"XCD\":3.067232,\"XDR\":0.811707,\"XOF\":655.962587,\"XPF\":119.679801,\"YER\":284.019065,\"ZAR\":17.270026,\"ZMK\":10215.823009,\"ZMW\":21.376782,\"ZWL\":365.45011}}'"
      ]
     },
     "execution_count": 31,
     "metadata": {},
     "output_type": "execute_result"
    }
   ],
   "source": [
    "# Write your code here\n",
    "url = \"http://api.exchangeratesapi.io/v1/latest?base=EUR&access_key=d81b16a7e5cbb9e8da3d888dd40511aa\"  #Make sure to change ******* to your API key.\n",
    "r=requests.get(url)\n",
    "r.content"
   ]
  },
  {
   "cell_type": "markdown",
   "metadata": {},
   "source": [
    "### Save as DataFrame\n",
    "\n",
    "<b> Question 2</b>  Using the data gathered turn it into a `pandas` dataframe. The dataframe should have the Currency as the index and `Rate` as their columns. Make sure to drop unnecessary columns.\n"
   ]
  },
  {
   "cell_type": "code",
   "execution_count": 38,
   "metadata": {},
   "outputs": [
    {
     "data": {
      "text/plain": [
       "dict_keys(['success', 'timestamp', 'base', 'date', 'rates'])"
      ]
     },
     "execution_count": 38,
     "metadata": {},
     "output_type": "execute_result"
    }
   ],
   "source": [
    "# Turn the data into a dataframe\n",
    "json = r.json()\n",
    "json.keys()\n",
    "#for row in r:\n",
    "#    if (col != []):\n",
    " #       country = col[0].text\n",
    "  #      rates = col[1].text\n",
    "   #     data = data.append({\"country\": country, \"rates\": rates, Ignore_index = False)\n"
   ]
  },
  {
   "cell_type": "code",
   "execution_count": 48,
   "metadata": {},
   "outputs": [
    {
     "data": {
      "text/plain": [
       "AED      4.168752\n",
       "AFN    104.900894\n",
       "ALL    121.441034\n",
       "AMD    546.954659\n",
       "ANG      2.053617\n",
       "Name: rates, dtype: float64"
      ]
     },
     "execution_count": 48,
     "metadata": {},
     "output_type": "execute_result"
    }
   ],
   "source": [
    "# Drop unnescessary columns\n",
    "df = pd.DataFrame(json)\n",
    "df = df['rates']\n",
    "df.head()"
   ]
  },
  {
   "cell_type": "markdown",
   "metadata": {
    "tags": []
   },
   "source": [
    "### Load the Data\n",
    "\n",
    "Using the dataframe save it as a CSV names `exchange_rates_1.csv`.\n"
   ]
  },
  {
   "cell_type": "code",
   "execution_count": 55,
   "metadata": {},
   "outputs": [],
   "source": [
    "df.to_csv('exchange_rates_1.csv')"
   ]
  },
  {
   "cell_type": "markdown",
   "metadata": {},
   "source": [
    "Your CSV should be in this format with more currencies\n",
    "\n",
    "|     | Rates      |\n",
    "| --- | ---------- |\n",
    "| AED | 4.398618   |\n",
    "| AFN | 92.917693  |\n",
    "| ALL | 123.099093 |\n",
    "| AMD | 621.935674 |\n",
    "| ANG | 2.149648   |\n"
   ]
  },
  {
   "cell_type": "markdown",
   "metadata": {},
   "source": [
    "## Authors\n"
   ]
  },
  {
   "cell_type": "markdown",
   "metadata": {},
   "source": [
    "Ramesh Sannareddy, Joseph Santarcangelo and Azim Hirjani\n"
   ]
  },
  {
   "cell_type": "markdown",
   "metadata": {},
   "source": [
    "### Other Contributors\n"
   ]
  },
  {
   "cell_type": "markdown",
   "metadata": {},
   "source": [
    "Rav Ahuja\n"
   ]
  },
  {
   "cell_type": "markdown",
   "metadata": {},
   "source": [
    "## Change Log\n"
   ]
  },
  {
   "cell_type": "markdown",
   "metadata": {},
   "source": [
    "| Date (YYYY-MM-DD) | Version | Changed By        | Change Description                 |\n",
    "| ----------------- | ------- | ----------------- | ---------------------------------- |\n",
    "| 2021-04-15        | 0.2     | Malika            | Updated the lab from USD to EUR    |\n",
    "| 2020-11-25        | 0.1     | Ramesh Sannareddy | Created initial version of the lab |\n"
   ]
  },
  {
   "cell_type": "markdown",
   "metadata": {},
   "source": [
    "Copyright © 2020 IBM Corporation. This notebook and its source code are released under the terms of the [MIT License](https://cognitiveclass.ai/mit-license?utm_medium=Exinfluencer&utm_source=Exinfluencer&utm_content=000026UJ&utm_term=10006555&utm_id=NA-SkillsNetwork-Channel-SkillsNetworkCoursesIBMDeveloperSkillsNetworkPY0221ENSkillsNetwork23455645-2021-01-01&cm_mmc=Email_Newsletter-\\_-Developer_Ed%2BTech-\\_-WW_WW-\\_-SkillsNetwork-Courses-IBM-DA0321EN-SkillsNetwork-21426264&cm_mmca1=000026UJ&cm_mmca2=10006555&cm_mmca3=M12345678&cvosrc=email.Newsletter.M12345678&cvo_campaign=000026UJ).\n"
   ]
  }
 ],
 "metadata": {
  "kernelspec": {
   "display_name": "Python 3",
   "language": "python",
   "name": "python3"
  },
  "language_info": {
   "codemirror_mode": {
    "name": "ipython",
    "version": 3
   },
   "file_extension": ".py",
   "mimetype": "text/x-python",
   "name": "python",
   "nbconvert_exporter": "python",
   "pygments_lexer": "ipython3",
   "version": "3.8.8"
  }
 },
 "nbformat": 4,
 "nbformat_minor": 4
}
